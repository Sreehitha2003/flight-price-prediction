{
 "cells": [
  {
   "cell_type": "code",
   "execution_count": null,
   "metadata": {
    "id": "xhPtLociLZzH"
   },
   "outputs": [],
   "source": [
    "import pandas as pd\n",
    "import numpy as np\n",
    "import matplotlib.pyplot as plt\n",
    "import seaborn as sns"
   ]
  },
  {
   "cell_type": "code",
   "execution_count": null,
   "metadata": {
    "id": "Dql0oHStLnwQ"
   },
   "outputs": [],
   "source": [
    "flight_data = pd.read_csv('Flight-Data.csv')"
   ]
  },
  {
   "cell_type": "code",
   "execution_count": null,
   "metadata": {
    "colab": {
     "base_uri": "https://localhost:8080/",
     "height": 652
    },
    "id": "PWcyEoiIMLDV",
    "outputId": "44495313-54d0-47c2-eb36-ad4dba17221a"
   },
   "outputs": [],
   "source": [
    "flight_data.head()"
   ]
  },
  {
   "cell_type": "code",
   "execution_count": null,
   "metadata": {
    "colab": {
     "base_uri": "https://localhost:8080/",
     "height": 579
    },
    "id": "F1izC4HxMO8k",
    "outputId": "d36acbd0-613d-41f1-90d3-cf91a5bbff92"
   },
   "outputs": [],
   "source": [
    "flight_data.tail(6)"
   ]
  },
  {
   "cell_type": "code",
   "execution_count": null,
   "metadata": {
    "colab": {
     "base_uri": "https://localhost:8080/"
    },
    "id": "uHKwVWr0MnMS",
    "outputId": "deb7e2ed-99a9-450e-9cee-f32926fce761"
   },
   "outputs": [],
   "source": [
    "flight_data.isnull().sum()"
   ]
  },
  {
   "cell_type": "code",
   "execution_count": null,
   "metadata": {
    "id": "ONImUtUw7gwV"
   },
   "outputs": [],
   "source": [
    "\n",
    "flight_data = flight_data.dropna(axis=0)"
   ]
  },
  {
   "cell_type": "code",
   "execution_count": null,
   "metadata": {
    "colab": {
     "base_uri": "https://localhost:8080/"
    },
    "id": "SZfQbwTkMnbJ",
    "outputId": "2d18f03f-1028-4b87-dfbc-c81ad8e4c218"
   },
   "outputs": [],
   "source": [
    "\n",
    "flight_data['Destination'].value_counts()"
   ]
  },
  {
   "cell_type": "code",
   "execution_count": null,
   "metadata": {
    "colab": {
     "base_uri": "https://localhost:8080/"
    },
    "id": "Ujy0gjvcMnpO",
    "outputId": "3e1eab1f-6bec-40d8-acca-ccf1c4581130"
   },
   "outputs": [],
   "source": [
    "flight_data.info()"
   ]
  },
  {
   "cell_type": "code",
   "execution_count": null,
   "metadata": {
    "colab": {
     "base_uri": "https://localhost:8080/"
    },
    "id": "bGtWE-GMOJDB",
    "outputId": "98b04057-8b46-4218-b6b8-a2c3f452539d"
   },
   "outputs": [],
   "source": [
    "flight_data['Duration'].value_counts()"
   ]
  },
  {
   "cell_type": "code",
   "execution_count": null,
   "metadata": {
    "colab": {
     "base_uri": "https://localhost:8080/"
    },
    "id": "9FAM1ltPMn0-",
    "outputId": "1be83437-44cf-43e1-d3bc-8e4c72df27be"
   },
   "outputs": [],
   "source": [
    "flight_data.Airline.value_counts()"
   ]
  },
  {
   "cell_type": "code",
   "execution_count": null,
   "metadata": {
    "id": "4QLhCoyHQbWK"
   },
   "outputs": [],
   "source": [
    "def delhi(x):\n",
    "    if x=='New Delhi':\n",
    "        return 'Delhi'\n",
    "    else:\n",
    "        return x\n",
    "\n",
    "flight_data['Destination'] = flight_data['Destination'].apply(delhi)"
   ]
  },
  {
   "cell_type": "code",
   "execution_count": null,
   "metadata": {
    "colab": {
     "base_uri": "https://localhost:8080/"
    },
    "id": "5nemEiYiQs4z",
    "outputId": "ae9c787f-ac30-4cd5-8fef-aaa9b38b1717"
   },
   "outputs": [],
   "source": [
    "flight_data['Destination'].value_counts()"
   ]
  },
  {
   "cell_type": "markdown",
   "metadata": {
    "id": "gAT23_iNNJwi"
   },
   "source": [
    "**Numerical data**"
   ]
  },
  {
   "cell_type": "code",
   "execution_count": null,
   "metadata": {
    "id": "GFD1XcLAMoKF"
   },
   "outputs": [],
   "source": [
    "flight_data[\"Journey_date\"] = pd.to_datetime(flight_data['Date_of_Journey'], format=\"%d/%m/%Y\").dt.day"
   ]
  },
  {
   "cell_type": "code",
   "execution_count": null,
   "metadata": {
    "id": "rxaDdtvFNHS_"
   },
   "outputs": [],
   "source": [
    "flight_data[\"Journey_month\"] = pd.to_datetime(flight_data['Date_of_Journey'], format=\"%d/%m/%Y\").dt.month"
   ]
  },
  {
   "cell_type": "code",
   "execution_count": null,
   "metadata": {
    "id": "JMZf8_3ANHVe"
   },
   "outputs": [],
   "source": [
    "flight_data.drop(columns='Date_of_Journey',axis=1,inplace=True)"
   ]
  },
  {
   "cell_type": "code",
   "execution_count": null,
   "metadata": {
    "colab": {
     "base_uri": "https://localhost:8080/",
     "height": 652
    },
    "id": "KVHXiSd4VjPZ",
    "outputId": "d275c9f7-8361-4058-ab09-547a33e51d01"
   },
   "outputs": [],
   "source": [
    "flight_data.head()"
   ]
  },
  {
   "cell_type": "code",
   "execution_count": null,
   "metadata": {},
   "outputs": [],
   "source": [
    "plt.figure(figsize=(6,6))\n",
    "sns.barplot(x=\"Journey_date\",y='Price', data=flight_data)\n",
    "plt.show()"
   ]
  },
  {
   "cell_type": "code",
   "execution_count": null,
   "metadata": {},
   "outputs": [],
   "source": [
    "plt.figure(figsize=(6,6))\n",
    "sns.countplot(flight_data['Journey_date'])\n",
    "plt.show()"
   ]
  },
  {
   "cell_type": "code",
   "execution_count": null,
   "metadata": {
    "id": "fUI-GmJtNHaR"
   },
   "outputs": [],
   "source": [
    "flight_data['Dep_hour'] = pd.to_datetime(flight_data['Dep_Time']).dt.hour"
   ]
  },
  {
   "cell_type": "code",
   "execution_count": null,
   "metadata": {
    "id": "mWtdwXabNHcm"
   },
   "outputs": [],
   "source": [
    "flight_data['Dep_min'] = pd.to_datetime(flight_data['Dep_Time']).dt.minute\n",
    "\n",
    "flight_data.drop(columns='Dep_Time',axis=1,inplace=True)"
   ]
  },
  {
   "cell_type": "code",
   "execution_count": null,
   "metadata": {
    "id": "3z5NKEu4NHge"
   },
   "outputs": [],
   "source": [
    "flight_data['Arrival_hour'] = pd.to_datetime(flight_data['Arrival_Time']).dt.hour\n",
    "\n",
    "flight_data['Arrival_min'] = pd.to_datetime(flight_data['Arrival_Time']).dt.minute\n",
    "\n",
    "flight_data.drop(columns='Arrival_Time',axis=1,inplace=True)"
   ]
  },
  {
   "cell_type": "code",
   "execution_count": null,
   "metadata": {
    "colab": {
     "base_uri": "https://localhost:8080/",
     "height": 652
    },
    "id": "wYF_b4dSTpDj",
    "outputId": "c4abf3a1-0434-4870-bd15-778b0ebb8351"
   },
   "outputs": [],
   "source": [
    "flight_data.head()"
   ]
  },
  {
   "cell_type": "code",
   "execution_count": null,
   "metadata": {
    "id": "ehrSsEQCWiia"
   },
   "outputs": [],
   "source": [
    "duration = list(flight_data['Duration'])\n",
    "for i in range(len(duration)):\n",
    "    if len(duration[i].split()) != 2:\n",
    "        if 'h' in duration[i]:\n",
    "            duration[i] = duration[i] + ' 0m'\n",
    "        else:\n",
    "            duration[i] = '0h ' + duration[i]\n",
    "duration_hour = []\n",
    "duration_min = []\n",
    "for i in duration:\n",
    "    h,m = i.split()\n",
    "    duration_hour.append(int(h[:-1]))\n",
    "    duration_min.append(int(m[:-1]))"
   ]
  },
  {
   "cell_type": "code",
   "execution_count": null,
   "metadata": {
    "id": "dEt_p4hrWibs"
   },
   "outputs": [],
   "source": [
    "flight_data['Duration_hours'] = duration_hour\n",
    "flight_data['Duration_mins'] = duration_min"
   ]
  },
  {
   "cell_type": "code",
   "execution_count": null,
   "metadata": {
    "id": "nANncxkxWiTN"
   },
   "outputs": [],
   "source": [
    "flight_data.drop([\"Duration\"], axis = 1, inplace = True)"
   ]
  },
  {
   "cell_type": "code",
   "execution_count": null,
   "metadata": {
    "colab": {
     "base_uri": "https://localhost:8080/",
     "height": 652
    },
    "id": "yYnbscR3WiLL",
    "outputId": "9b6134a7-7a69-4db1-d5a4-2f3ca07f22c3"
   },
   "outputs": [],
   "source": [
    "flight_data.head()"
   ]
  },
  {
   "cell_type": "markdown",
   "metadata": {
    "id": "o-4PkfJum4d7"
   },
   "source": [
    "**Categorical Data**"
   ]
  },
  {
   "cell_type": "code",
   "execution_count": null,
   "metadata": {
    "colab": {
     "base_uri": "https://localhost:8080/"
    },
    "id": "xlCFLeD1WiCp",
    "outputId": "24118f15-9ba6-45a5-9107-25ec6a8813bd"
   },
   "outputs": [],
   "source": [
    "flight_data['Airline'].value_counts()"
   ]
  },
  {
   "cell_type": "code",
   "execution_count": null,
   "metadata": {
    "colab": {
     "base_uri": "https://localhost:8080/",
     "height": 225
    },
    "id": "M5om_VLXWh6q",
    "outputId": "7035c6f0-20ac-43d7-a814-aedb30fba215"
   },
   "outputs": [],
   "source": [
    "sns.catplot(x = \"Airline\",y = \"Price\", data = flight_data.sort_values(\"Price\", ascending = False), kind=\"boxen\", height = 5, aspect = 5)\n",
    "plt.show()"
   ]
  },
  {
   "cell_type": "code",
   "execution_count": null,
   "metadata": {
    "id": "k1tUmWuhWhyH"
   },
   "outputs": [],
   "source": [
    "Airline = pd.get_dummies(flight_data[['Airline']], drop_first= True)"
   ]
  },
  {
   "cell_type": "code",
   "execution_count": null,
   "metadata": {
    "colab": {
     "base_uri": "https://localhost:8080/",
     "height": 461
    },
    "id": "BkNIEJKeWhqn",
    "outputId": "ca6e55dc-dcd2-489c-9ef1-58b0041c593e"
   },
   "outputs": [],
   "source": [
    "Airline.head(10)"
   ]
  },
  {
   "cell_type": "code",
   "execution_count": null,
   "metadata": {
    "colab": {
     "base_uri": "https://localhost:8080/"
    },
    "id": "6Pg-XGX2Whi7",
    "outputId": "a38c54e0-f517-48bf-ff50-9578e89e9ad4"
   },
   "outputs": [],
   "source": [
    "flight_data['Source'].value_counts()"
   ]
  },
  {
   "cell_type": "code",
   "execution_count": null,
   "metadata": {},
   "outputs": [],
   "source": [
    "plt.figure(figsize=(6,6))\n",
    "sns.countplot(flight_data['Source'])\n",
    "plt.show()"
   ]
  },
  {
   "cell_type": "code",
   "execution_count": null,
   "metadata": {
    "colab": {
     "base_uri": "https://localhost:8080/",
     "height": 222
    },
    "id": "JocdAgN9WhaJ",
    "outputId": "650be50e-1666-457e-a08d-1a01ff786152"
   },
   "outputs": [],
   "source": [
    "sns.catplot( x= 'Source', y = 'Price', data = flight_data.sort_values(\"Price\", ascending = False), kind=\"boxen\", height = 3, aspect = 3)\n",
    "plt.show()"
   ]
  },
  {
   "cell_type": "code",
   "execution_count": null,
   "metadata": {
    "colab": {
     "base_uri": "https://localhost:8080/",
     "height": 363
    },
    "id": "SPtjnPJMWhNP",
    "outputId": "4c43114b-5314-4fa0-ef93-af7c18f920b8"
   },
   "outputs": [],
   "source": [
    "Source = pd.get_dummies(flight_data[['Source']], drop_first = True)\n",
    "Source.head(10)"
   ]
  },
  {
   "cell_type": "code",
   "execution_count": null,
   "metadata": {
    "colab": {
     "base_uri": "https://localhost:8080/"
    },
    "id": "evlaNjaRy-60",
    "outputId": "dc5b5a8c-5661-4046-da4b-df702ceed914"
   },
   "outputs": [],
   "source": [
    "flight_data['Destination'].value_counts()"
   ]
  },
  {
   "cell_type": "code",
   "execution_count": null,
   "metadata": {
    "colab": {
     "base_uri": "https://localhost:8080/",
     "height": 240
    },
    "id": "OaEt5ZUQy-3X",
    "outputId": "298c5251-72e7-44ca-c851-8537ae89ebde"
   },
   "outputs": [],
   "source": [
    "sns.catplot( x ='Destination', y ='Price',data = flight_data.sort_values('Price',ascending = False),kind = \"boxen\",height = 4, aspect = 3)"
   ]
  },
  {
   "cell_type": "code",
   "execution_count": null,
   "metadata": {
    "colab": {
     "base_uri": "https://localhost:8080/",
     "height": 427
    },
    "id": "CpLOOisPwrcp",
    "outputId": "fdc4041d-f04f-43c7-b309-eb773ef2b146"
   },
   "outputs": [],
   "source": [
    "Destination = pd.get_dummies(flight_data[['Destination']],drop_first = True)\n",
    "Destination.head(10)"
   ]
  },
  {
   "cell_type": "code",
   "execution_count": null,
   "metadata": {},
   "outputs": [],
   "source": [
    "plt.figure(figsize=(6,6))\n",
    "sns.barplot(x=\"Destination\",y='Price', data=flight_data)\n",
    "plt.show()"
   ]
  },
  {
   "cell_type": "code",
   "execution_count": null,
   "metadata": {
    "id": "KfaQSji-wrWQ"
   },
   "outputs": [],
   "source": [
    "#since route and total stops are same route can be removed \n",
    "# additional info mostly has no info\n",
    "\n",
    "flight_data.drop(columns=['Route', 'Additional_Info'],axis=1, inplace = True)"
   ]
  },
  {
   "cell_type": "code",
   "execution_count": null,
   "metadata": {
    "colab": {
     "base_uri": "https://localhost:8080/",
     "height": 287
    },
    "id": "AMGEKu9xwrJN",
    "outputId": "4c010c61-6310-4af3-b3f1-f98a916d6dd0"
   },
   "outputs": [],
   "source": [
    "flight_data.head()"
   ]
  },
  {
   "cell_type": "code",
   "execution_count": null,
   "metadata": {
    "colab": {
     "base_uri": "https://localhost:8080/"
    },
    "id": "NnZKRRkN26M0",
    "outputId": "f4ce9b3c-4e74-4e3b-af4f-eec894d841a0"
   },
   "outputs": [],
   "source": [
    "flight_data['Total_Stops'].value_counts()"
   ]
  },
  {
   "cell_type": "code",
   "execution_count": null,
   "metadata": {
    "id": "JbFufaNr3GBJ"
   },
   "outputs": [],
   "source": [
    "flight_data.replace({\"non-stop\": 0, \"1 stop\": 1, \"2 stops\": 2, \"3 stops\": 3, \"4 stops\": 4}, inplace = True)"
   ]
  },
  {
   "cell_type": "code",
   "execution_count": null,
   "metadata": {
    "id": "idT2FPsf2Jp4"
   },
   "outputs": [],
   "source": [
    "flight_data['Total_Stops'] = flight_data['Total_Stops'].astype(int)"
   ]
  },
  {
   "cell_type": "code",
   "execution_count": null,
   "metadata": {
    "colab": {
     "base_uri": "https://localhost:8080/",
     "height": 287
    },
    "id": "bQwq9zqV3F5M",
    "outputId": "c6e7d9cb-5f4e-4e1b-97fc-5473ae66a4fe"
   },
   "outputs": [],
   "source": [
    "flight_data.head()"
   ]
  },
  {
   "cell_type": "code",
   "execution_count": null,
   "metadata": {},
   "outputs": [],
   "source": [
    "plt.figure(figsize=(6,6))\n",
    "sns.barplot(x=\"Total_Stops\",y='Price', data=flight_data)\n",
    "plt.show()"
   ]
  },
  {
   "cell_type": "code",
   "execution_count": null,
   "metadata": {
    "colab": {
     "base_uri": "https://localhost:8080/"
    },
    "id": "1L6chKKM3Fx5",
    "outputId": "b35b0aba-1482-4639-bcf6-79eb5e3ed09e"
   },
   "outputs": [],
   "source": [
    "print(Airline.shape)\n",
    "print(Source.shape)\n",
    "print(Destination.shape)\n",
    "print(flight_data.shape)"
   ]
  },
  {
   "cell_type": "code",
   "execution_count": null,
   "metadata": {
    "id": "X1OuSHEY3FrA"
   },
   "outputs": [],
   "source": [
    "flight_train_data = pd.concat([flight_data,Airline,Source,Destination], axis = 1)"
   ]
  },
  {
   "cell_type": "code",
   "execution_count": null,
   "metadata": {
    "colab": {
     "base_uri": "https://localhost:8080/",
     "height": 334
    },
    "id": "sz2SJbvS3FRN",
    "outputId": "1e333a46-3147-47ce-d499-5359ffbe48b4"
   },
   "outputs": [],
   "source": [
    "flight_train_data.head()"
   ]
  },
  {
   "cell_type": "code",
   "execution_count": null,
   "metadata": {
    "colab": {
     "base_uri": "https://localhost:8080/",
     "height": 223
    },
    "id": "tTneikx2ym6E",
    "outputId": "ed02a47b-9a8f-45ce-f34e-312c3bf07f43"
   },
   "outputs": [],
   "source": [
    "X = flight_train_data.loc[:, ['Total_Stops', 'Journey_date', 'Journey_month', 'Dep_hour',\n",
    "       'Dep_min', 'Arrival_hour', 'Arrival_min', 'Duration_hours',\n",
    "       'Duration_mins', 'Airline_Air India', 'Airline_GoAir', 'Airline_IndiGo',\n",
    "       'Airline_Jet Airways', 'Airline_Jet Airways Business',\n",
    "       'Airline_Multiple carriers',\n",
    "       'Airline_Multiple carriers Premium economy', 'Airline_SpiceJet',\n",
    "       'Airline_Trujet', 'Airline_Vistara', 'Airline_Vistara Premium economy',\n",
    "       'Source_Chennai', 'Source_Delhi', 'Source_Kolkata', 'Source_Mumbai',\n",
    "       'Destination_Cochin', 'Destination_Delhi', 'Destination_Hyderabad',\n",
    "       'Destination_Kolkata']]\n",
    "X.head(2)"
   ]
  },
  {
   "cell_type": "code",
   "execution_count": null,
   "metadata": {
    "colab": {
     "base_uri": "https://localhost:8080/",
     "height": 334
    },
    "id": "OjUbeT3C1L1y",
    "outputId": "9dfbde8e-81cb-4a37-b8f2-eecab899e3ee"
   },
   "outputs": [],
   "source": [
    "features = flight_train_data.drop('Price',axis=1)\n",
    "features.head()"
   ]
  },
  {
   "cell_type": "code",
   "execution_count": null,
   "metadata": {
    "id": "-7B6ReUvxQga"
   },
   "outputs": [],
   "source": [
    "flight_train_data.drop([\"Airline\", \"Source\", \"Destination\"], axis = 1, inplace = True)"
   ]
  },
  {
   "cell_type": "code",
   "execution_count": null,
   "metadata": {
    "colab": {
     "base_uri": "https://localhost:8080/",
     "height": 317
    },
    "id": "LP2CAcTY_egQ",
    "outputId": "d9c62fd4-bd8a-4df2-e825-f7b7056454a1"
   },
   "outputs": [],
   "source": [
    "flight_train_data.head()"
   ]
  },
  {
   "cell_type": "code",
   "execution_count": null,
   "metadata": {
    "colab": {
     "base_uri": "https://localhost:8080/"
    },
    "id": "3l91UpYh1LyN",
    "outputId": "d9d721df-a816-4f30-e329-1e7a041881a9"
   },
   "outputs": [],
   "source": [
    "Y = flight_train_data['Price']\n",
    "Y.head()"
   ]
  },
  {
   "cell_type": "code",
   "execution_count": null,
   "metadata": {
    "colab": {
     "base_uri": "https://localhost:8080/"
    },
    "id": "8tzH_PGD3zW7",
    "outputId": "3cae1b5a-68fd-4054-9dcf-5ade1dbf3214"
   },
   "outputs": [],
   "source": [
    "flight_train_data.columns"
   ]
  },
  {
   "cell_type": "code",
   "execution_count": null,
   "metadata": {
    "colab": {
     "base_uri": "https://localhost:8080/",
     "height": 750
    },
    "id": "EQIX2O4X1LvV",
    "outputId": "014c0343-7297-452f-8b28-e36ad847a857"
   },
   "outputs": [],
   "source": [
    "plt.figure(figsize=(15,15))\n",
    "sns.heatmap(flight_data.corr(),annot=True)"
   ]
  },
  {
   "cell_type": "code",
   "execution_count": null,
   "metadata": {
    "id": "XRnunJXlwzw_"
   },
   "outputs": [],
   "source": [
    "from sklearn.ensemble import ExtraTreesRegressor"
   ]
  },
  {
   "cell_type": "code",
   "execution_count": null,
   "metadata": {
    "colab": {
     "base_uri": "https://localhost:8080/"
    },
    "id": "YOhQIazY1LsM",
    "outputId": "e1264c23-8dc9-4f4d-91f0-f26f981a0bf5"
   },
   "outputs": [],
   "source": [
    "reg = ExtraTreesRegressor()\n",
    "reg.fit(X,Y)\n"
   ]
  },
  {
   "cell_type": "code",
   "execution_count": null,
   "metadata": {
    "colab": {
     "base_uri": "https://localhost:8080/"
    },
    "id": "IplVtMru1LX0",
    "outputId": "6fc91958-4103-488e-f9c5-15b0f99c4ad9"
   },
   "outputs": [],
   "source": [
    "print(reg.feature_importances_)"
   ]
  },
  {
   "cell_type": "code",
   "execution_count": null,
   "metadata": {
    "colab": {
     "base_uri": "https://localhost:8080/",
     "height": 370
    },
    "id": "-qr614n_Dn74",
    "outputId": "f0879b05-b862-4d26-817d-ea3333bfcb2a"
   },
   "outputs": [],
   "source": [
    "plt.figure(figsize = (12,8))\n",
    "feature_importances = pd.Series(reg.feature_importances_, index=X.columns)\n",
    "feature_importances.nlargest(20).plot(kind='barh')\n",
    "plt.show()"
   ]
  },
  {
   "cell_type": "code",
   "execution_count": null,
   "metadata": {
    "id": "B4ZGH6KODn4e"
   },
   "outputs": [],
   "source": [
    "from sklearn.model_selection import train_test_split"
   ]
  },
  {
   "cell_type": "code",
   "execution_count": null,
   "metadata": {
    "id": "7NuoCwIPDn05"
   },
   "outputs": [],
   "source": [
    "X_train,X_test,Y_train,Y_test = train_test_split(X,Y,test_size=0.2,random_state = 42)"
   ]
  },
  {
   "cell_type": "code",
   "execution_count": null,
   "metadata": {
    "colab": {
     "base_uri": "https://localhost:8080/",
     "height": 317
    },
    "id": "xey3ue7kIFRP",
    "outputId": "972ed1cb-e643-4d1c-ca21-c1130658815f"
   },
   "outputs": [],
   "source": [
    "X_train.head()"
   ]
  },
  {
   "cell_type": "code",
   "execution_count": null,
   "metadata": {
    "id": "ccf_r94BIFNv"
   },
   "outputs": [],
   "source": [
    "from sklearn.ensemble import RandomForestRegressor "
   ]
  },
  {
   "cell_type": "code",
   "execution_count": null,
   "metadata": {
    "colab": {
     "base_uri": "https://localhost:8080/"
    },
    "id": "q8mlHTTFsUef",
    "outputId": "b1443eb7-3b96-4691-9225-c715d76e919f"
   },
   "outputs": [],
   "source": [
    "reg_rf = RandomForestRegressor()\n",
    "reg_rf.fit(X_train,Y_train)"
   ]
  },
  {
   "cell_type": "code",
   "execution_count": null,
   "metadata": {
    "id": "TaWdlv49sUbA"
   },
   "outputs": [],
   "source": [
    "Y_pred = reg_rf.predict(X_test)"
   ]
  },
  {
   "cell_type": "code",
   "execution_count": null,
   "metadata": {
    "colab": {
     "base_uri": "https://localhost:8080/"
    },
    "id": "PxzGKo1EsUYf",
    "outputId": "bebd29a9-13cf-43fb-8e85-691709d28143"
   },
   "outputs": [],
   "source": [
    "reg_rf.score(X_train,Y_train)"
   ]
  },
  {
   "cell_type": "code",
   "execution_count": null,
   "metadata": {
    "colab": {
     "base_uri": "https://localhost:8080/"
    },
    "id": "8gX00sWMsUWA",
    "outputId": "e16be8fb-6b28-40d2-8026-8c225bb91a7b"
   },
   "outputs": [],
   "source": [
    "reg_rf.score(X_test,Y_test)"
   ]
  },
  {
   "cell_type": "code",
   "execution_count": null,
   "metadata": {
    "colab": {
     "base_uri": "https://localhost:8080/",
     "height": 334
    },
    "id": "04EegcZktqAk",
    "outputId": "bbfbba5a-d672-4b33-9eb3-379c3f342054"
   },
   "outputs": [],
   "source": [
    "sns.distplot(Y_test-Y_pred)\n",
    "plt.show()"
   ]
  },
  {
   "cell_type": "code",
   "execution_count": null,
   "metadata": {
    "colab": {
     "base_uri": "https://localhost:8080/",
     "height": 280
    },
    "id": "FcRT3v_it9Aw",
    "outputId": "a79cebc0-817c-4251-941d-632e45de39e6"
   },
   "outputs": [],
   "source": [
    "\n",
    "plt.scatter(Y_test,Y_pred, alpha = 0.5)\n",
    "plt.xlabel(\"Y_test\")\n",
    "plt.ylabel(\"Y_pred\")\n",
    "plt.show()"
   ]
  },
  {
   "cell_type": "code",
   "execution_count": null,
   "metadata": {
    "id": "abArvF_xt8up"
   },
   "outputs": [],
   "source": [
    "from sklearn import metrics"
   ]
  },
  {
   "cell_type": "code",
   "execution_count": null,
   "metadata": {
    "colab": {
     "base_uri": "https://localhost:8080/"
    },
    "id": "ps9_tvrOt8rI",
    "outputId": "551dcce5-0cbc-46da-a54f-5053f67c7b0f"
   },
   "outputs": [],
   "source": [
    "print('Mean Absolute Error:', metrics.mean_absolute_error(Y_test, Y_pred))\n",
    "print('Mean Square Error:', metrics.mean_squared_error(Y_test, Y_pred))\n",
    "print('Root Mean Square Error:', np.sqrt(metrics.mean_squared_error(Y_test, Y_pred)))"
   ]
  },
  {
   "cell_type": "code",
   "execution_count": null,
   "metadata": {
    "colab": {
     "base_uri": "https://localhost:8080/"
    },
    "id": "3sW-6xVaxKO-",
    "outputId": "0d47f36e-ce3e-4b23-a403-2c705aa6d886"
   },
   "outputs": [],
   "source": [
    "metrics.r2_score(Y_test,Y_pred)"
   ]
  },
  {
   "cell_type": "code",
   "execution_count": null,
   "metadata": {
    "colab": {
     "base_uri": "https://localhost:8080/"
    },
    "id": "KkRk8qI81VHk",
    "outputId": "cc7451ed-39e4-4d7a-e75a-0d4ba7dc0c7d"
   },
   "outputs": [],
   "source": [
    "2090.5509/(max(Y)-min(Y))"
   ]
  },
  {
   "cell_type": "code",
   "execution_count": null,
   "metadata": {
    "id": "66gW5Fm11VEO"
   },
   "outputs": [],
   "source": [
    "from sklearn.model_selection import RandomizedSearchCV"
   ]
  },
  {
   "cell_type": "code",
   "execution_count": null,
   "metadata": {
    "id": "fcYGgEBY3As7"
   },
   "outputs": [],
   "source": [
    "n_estimators = [int(x) for x in np.linspace(100,1200,12)]\n",
    "max_features = ['auto', 'sqrt']\n",
    "max_depth = [int(x) for x in np.linspace(5, 30, num = 6)]\n",
    "min_samples_split = [2, 5, 10, 15, 100]\n",
    "min_samples_leaf = [1, 2, 5, 10]"
   ]
  },
  {
   "cell_type": "code",
   "execution_count": null,
   "metadata": {
    "id": "d3ah7h6R3ApU"
   },
   "outputs": [],
   "source": [
    "random_grid = {'n_estimators': n_estimators,\n",
    "               'max_features': max_features,\n",
    "               'max_depth': max_depth,\n",
    "               'min_samples_split': min_samples_split,\n",
    "               'min_samples_leaf': min_samples_leaf}"
   ]
  },
  {
   "cell_type": "code",
   "execution_count": null,
   "metadata": {
    "id": "7FurblUz3Am7"
   },
   "outputs": [],
   "source": [
    "rf_random = RandomizedSearchCV(estimator = RandomForestRegressor(), param_distributions = random_grid,\n",
    "                               scoring='neg_mean_squared_error', n_iter = 10, cv = 5, \n",
    "                               verbose=1, random_state=42, n_jobs = 1)\n"
   ]
  },
  {
   "cell_type": "code",
   "execution_count": null,
   "metadata": {
    "colab": {
     "base_uri": "https://localhost:8080/"
    },
    "id": "k8w5to_5-D0D",
    "outputId": "dc946aa4-da23-4dab-f8b7-f909068c1748"
   },
   "outputs": [],
   "source": [
    "rf_random.fit(X_train,Y_train)"
   ]
  },
  {
   "cell_type": "code",
   "execution_count": null,
   "metadata": {
    "colab": {
     "base_uri": "https://localhost:8080/"
    },
    "id": "pX3mYZ-JeNiB",
    "outputId": "6a191baf-678d-4c2b-e2ac-731ed7bc1c03"
   },
   "outputs": [],
   "source": [
    "rf_random.best_params_"
   ]
  },
  {
   "cell_type": "code",
   "execution_count": null,
   "metadata": {
    "id": "1KFiHJ51eNeo"
   },
   "outputs": [],
   "source": [
    "prediction = rf_random.predict(X_test)"
   ]
  },
  {
   "cell_type": "code",
   "execution_count": null,
   "metadata": {
    "colab": {
     "base_uri": "https://localhost:8080/",
     "height": 552
    },
    "id": "ufDq9woNeNab",
    "outputId": "2fb12842-2cd2-4a2b-d4e8-757b8c995d6c"
   },
   "outputs": [],
   "source": [
    "plt.figure(figsize = (8,8))\n",
    "sns.distplot(Y_test-prediction)\n",
    "plt.show()"
   ]
  },
  {
   "cell_type": "code",
   "execution_count": null,
   "metadata": {
    "colab": {
     "base_uri": "https://localhost:8080/",
     "height": 498
    },
    "id": "voNcx5lYezmb",
    "outputId": "7f70a9cf-aea7-41d2-a8a2-f70f8b9077ae"
   },
   "outputs": [],
   "source": [
    "plt.figure(figsize = (8,8))\n",
    "plt.scatter(Y_test, prediction, alpha = 0.5)\n",
    "plt.xlabel(\"Y_test\")\n",
    "plt.ylabel(\"Y_pred\")\n",
    "plt.show()"
   ]
  },
  {
   "cell_type": "code",
   "execution_count": null,
   "metadata": {
    "colab": {
     "base_uri": "https://localhost:8080/"
    },
    "id": "rDoavVhze6K7",
    "outputId": "99c0b30a-cc1d-4b7e-a897-e03ba7585c87"
   },
   "outputs": [],
   "source": [
    "print('MAE:', metrics.mean_absolute_error(Y_test, prediction))\n",
    "print('MSE:', metrics.mean_squared_error(Y_test, prediction))\n",
    "print('RMSE:', np.sqrt(metrics.mean_squared_error(Y_test, prediction)))"
   ]
  },
  {
   "cell_type": "code",
   "execution_count": null,
   "metadata": {
    "colab": {
     "base_uri": "https://localhost:8080/"
    },
    "id": "RLXattjVfdWN",
    "outputId": "8354ca11-d181-4e8d-8920-8e59db01f1c4"
   },
   "outputs": [],
   "source": [
    "print('r2 score: ', metrics.r2_score(Y_test,Y_pred))"
   ]
  },
  {
   "cell_type": "code",
   "execution_count": null,
   "metadata": {
    "id": "Inp1cQ_ezwF6"
   },
   "outputs": [],
   "source": [
    "import pickle"
   ]
  },
  {
   "cell_type": "code",
   "execution_count": null,
   "metadata": {
    "id": "HTpY6UT7zy9i"
   },
   "outputs": [],
   "source": [
    "filename = \"flight_price.pkl\"\n",
    "pickle.dump(rf_random,open(filename,'wb'))"
   ]
  },
  {
   "cell_type": "code",
   "execution_count": null,
   "metadata": {
    "id": "mzmpEqgJ0G7V"
   },
   "outputs": [],
   "source": [
    "loaded_model = pickle.load(open('flight_price.pkl','rb'))"
   ]
  },
  {
   "cell_type": "code",
   "execution_count": null,
   "metadata": {
    "id": "EI8Mtu3d0Wif"
   },
   "outputs": [],
   "source": [
    "Y_prediction = loaded_model.predict(X_test)"
   ]
  },
  {
   "cell_type": "code",
   "execution_count": null,
   "metadata": {
    "colab": {
     "base_uri": "https://localhost:8080/"
    },
    "id": "oy3ttczD4Ued",
    "outputId": "9e3def50-ca93-4cce-c661-969710dc14bc"
   },
   "outputs": [],
   "source": [
    "metrics.r2_score(Y_test,Y_prediction)"
   ]
  },
  {
   "cell_type": "code",
   "execution_count": null,
   "metadata": {
    "colab": {
     "base_uri": "https://localhost:8080/",
     "height": 295
    },
    "id": "bOJ42h8g6BZh",
    "outputId": "1d86ab87-4636-47e6-db82-4a30dc76a4a0"
   },
   "outputs": [],
   "source": [
    "number_of_observations=50\n",
    "x_ax = range(len(Y_test[:number_of_observations]))\n",
    "plt.plot(x_ax, Y_test[:number_of_observations], label=\"original\")\n",
    "plt.plot(x_ax, Y_prediction[:number_of_observations], label=\"predicted\")\n",
    "plt.title(\"Flight Price test and predicted data\")\n",
    "plt.xlabel('Observation Number')\n",
    "plt.ylabel('Price')\n",
    "plt.legend()\n",
    "plt.show()"
   ]
  }
 ],
 "metadata": {
  "colab": {
   "collapsed_sections": [],
   "name": "Flight_Price.ipynb",
   "provenance": []
  },
  "kernelspec": {
   "display_name": "Python 3.10.5 64-bit",
   "language": "python",
   "name": "python3"
  },
  "language_info": {
   "codemirror_mode": {
    "name": "ipython",
    "version": 3
   },
   "file_extension": ".py",
   "mimetype": "text/x-python",
   "name": "python",
   "nbconvert_exporter": "python",
   "pygments_lexer": "ipython3",
   "version": "3.10.5"
  },
  "vscode": {
   "interpreter": {
    "hash": "66fea0472ddb1e21408e348ee57deb670085afa77f67881b30c061da53afe4bf"
   }
  }
 },
 "nbformat": 4,
 "nbformat_minor": 1
}
